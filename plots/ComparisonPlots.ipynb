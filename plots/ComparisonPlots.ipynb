{
 "cells": [
  {
   "cell_type": "code",
   "execution_count": 1,
   "metadata": {
    "collapsed": false
   },
   "outputs": [],
   "source": [
    "import numpy as np, pylab,sys\n",
    "import matplotlib.pyplot as plt\n",
    "import glob\n",
    "from scipy.optimize import curve_fit\n",
    "\n",
    "%matplotlib inline  "
   ]
  },
  {
   "cell_type": "code",
   "execution_count": 2,
   "metadata": {
    "collapsed": true
   },
   "outputs": [],
   "source": [
    "def get_stats(log_mass,conc, bins):\n",
    "    median_conc = np.empty(len(bins)-1)\n",
    "    quar1_conc = np.empty(len(bins)-1)\n",
    "    quar2_conc = np.empty(len(bins)-1)\n",
    "\n",
    "    for i in range(len(bins)-1):\n",
    "        mass_index = np.where((log_mass>bins[i]) & (log_mass<bins[i+1]))\n",
    "        if(np.size(mass_index)>1):\n",
    "            conc_index = conc[mass_index]\n",
    "            print np.size(mass_index)\n",
    "            median_conc[i] = np.percentile(conc_index, 50)\n",
    "            quar1_conc[i] = np.percentile(conc_index, 25)\n",
    "            quar2_conc[i] = np.percentile(conc_index, 75)\n",
    "        else:\n",
    "            median_conc[i] = median_conc[i-1]\n",
    "            quar1_conc[i] = quar1_conc[i-1]\n",
    "            quar2_conc[i] = quar2_conc[i-1]\n",
    "                                      \n",
    "    return median_conc,quar1_conc,quar2_conc\n",
    "\n",
    "def enlarge_labels(ax,fsize):\n",
    "    ticklabels_x = ax.get_xticklabels()\n",
    "    ticklabels_y = ax.get_yticklabels()\n",
    "\n",
    "    for label_x in ticklabels_x:\n",
    "        label_x.set_fontsize(fsize)\n",
    "        label_x.set_family('serif')\n",
    "    for label_y in ticklabels_y:\n",
    "        label_y.set_fontsize(fsize)\n",
    "        label_y.set_family('serif')"
   ]
  },
  {
   "cell_type": "markdown",
   "metadata": {},
   "source": [
    "# Downsampling statistics"
   ]
  },
  {
   "cell_type": "code",
   "execution_count": 26,
   "metadata": {
    "collapsed": false
   },
   "outputs": [],
   "source": [
    "sample_path = '/home/forero/github/MACH/data/results/Bolshoi/downsampling/'\n",
    "sample_files = glob.glob(sample_path+\"*.dat\")"
   ]
  },
  {
   "cell_type": "code",
   "execution_count": 27,
   "metadata": {
    "collapsed": false
   },
   "outputs": [],
   "source": [
    "def gather_data(filein):\n",
    "    sample_data = np.loadtxt(filein)\n",
    "    n_particles_list = np.array(list(set(sample_data[:,0])))\n",
    "    #n_particles_list = n_particles_list.sort()\n",
    "    n_particles_list = np.sort(n_particles_list)\n",
    "    n_items = np.size(n_particles_list)\n",
    "\n",
    "    mean_conc_mass = np.zeros(n_items)\n",
    "    sigma_conc_mass = np.zeros(n_items)\n",
    "\n",
    "    mean_conc_vel = np.zeros(n_items)\n",
    "    sigma_conc_vel = np.zeros(n_items)\n",
    "    for i in range(n_items):\n",
    "        ii = sample_data[:,0] == n_particles_list[i]\n",
    "        conc_mass = sample_data[ii,3]\n",
    "        conc_vel = sample_data[ii,5]\n",
    "        mean_conc_mass[i] = conc_mass.mean()\n",
    "        sigma_conc_mass[i] = conc_mass.std()\n",
    "        mean_conc_vel[i] = conc_vel.mean()\n",
    "        sigma_conc_vel[i] = conc_vel.std()\n",
    "    \n",
    "    norm_m = mean_conc_mass[-1]\n",
    "    norm_v = mean_conc_vel[-1]\n",
    "    return n_particles_list, mean_conc_mass/norm_m, sigma_conc_mass/norm_m, mean_conc_vel/norm_v, sigma_conc_vel/norm_v\n",
    "    \n",
    "\n",
    "    \n",
    "def func(x, a, b):\n",
    "    return a / (1.0 + x)**b \n",
    "    #return a * x ** b\n",
    "\n",
    "\n",
    "def plot_downsampling(filein):\n",
    "    sample_data = np.loadtxt(filein)\n",
    "    n_particles_list = np.array(list(set(sample_data[:,0])))\n",
    "    #n_particles_list = n_particles_list.sort()\n",
    "    n_particles_list = np.sort(n_particles_list)\n",
    "    n_items = np.size(n_particles_list)\n",
    "\n",
    "    mean_conc_mass = np.zeros(n_items)\n",
    "    sigma_conc_mass = np.zeros(n_items)\n",
    "\n",
    "    mean_conc_vel = np.zeros(n_items)\n",
    "    sigma_conc_vel = np.zeros(n_items)\n",
    "    for i in range(n_items):\n",
    "        ii = sample_data[:,0] == n_particles_list[i]\n",
    "        conc_mass = sample_data[ii,3]\n",
    "        conc_vel = sample_data[ii,5]\n",
    "        mean_conc_mass[i] = conc_mass.mean()\n",
    "        sigma_conc_mass[i] = conc_mass.std()\n",
    "        mean_conc_vel[i] = conc_vel.mean()\n",
    "        sigma_conc_vel[i] = conc_vel.std()\n",
    "    \n",
    "    \n",
    "    \n",
    "    fig = plt.figure(figsize=(6.5,6.0))\n",
    "    ax = plt.axes()\n",
    "\n",
    "    enlarge_labels(ax,20)\n",
    "\n",
    "    norm_conc_m = mean_conc_mass[-1]\n",
    "    norm_conc_v = mean_conc_vel[-1]\n",
    "    fraction = mean_conc_mass/norm_conc_m -1\n",
    "    log_n_sample = np.linspace(2.0, 5.0, 100)\n",
    "    \n",
    "    popt, pcov = curve_fit(func, np.log10(n_particles_list), fraction)\n",
    "    print popt\n",
    "    plt.plot(10**log_n_sample, popt[0]/(1+log_n_sample)**popt[1] )\n",
    "    \n",
    "    a = ax.errorbar(n_particles_list*1.1, fraction,\n",
    "                    yerr=sigma_conc_mass/norm_conc_m, fmt='o', label='$\\mathrm{our\\ method}$')\n",
    "    \n",
    "    \n",
    "    fraction = mean_conc_vel/norm_conc_v -1\n",
    "\n",
    "    log_n_sample = np.linspace(2.0, 5.0, 100)\n",
    "    popt, pcov = curve_fit(func, np.log10(n_particles_list), fraction)\n",
    "    print \"vel\", popt\n",
    "    plt.plot(10**log_n_sample, popt[0]/(1+log_n_sample)**popt[1] )\n",
    "   \n",
    "    \n",
    "    \n",
    "    a = ax.errorbar(n_particles_list, fraction,\n",
    "                    yerr=sigma_conc_vel/norm_conc_v, fmt='o', label='$\\mathrm{velocity\\ method}$', \n",
    "                color='red')\n",
    "\n",
    "#plt.xlim([1,20])\n",
    "    #plt.ylim([0.9,2.0])\n",
    "\n",
    "    plt.subplots_adjust(bottom=0.18, top=0.99, left=0.18, right=0.99)\n",
    "    ax.legend(loc=1, borderaxespad=0.5, prop={'size':15})\n",
    "    ax.set_xscale('log')\n",
    "    #ax.set_yscale('log')\n",
    "    ax.set_xlabel('$\\mathrm{N_{s}\\ (Sample\\ Particle\\ Number)}$',fontsize=25)\n",
    "    ax.set_ylabel(r'$(c_{\\mathrm{N_{s}}} - \\langle c_{\\mathrm{N_{s,max}}}\\rangle )/\\langle c_{\\mathrm{N_{s,max}}}\\rangle$',fontsize=25)\n",
    "#plt.savefig(\"conc_dens_vel.pdf\")\n"
   ]
  },
  {
   "cell_type": "code",
   "execution_count": 28,
   "metadata": {
    "collapsed": true
   },
   "outputs": [],
   "source": [
    "conc_mass_all = np.empty((0))\n",
    "conc_mass_sigma_all = np.empty((0))\n",
    "conc_vel_all = np.empty((0))\n",
    "conc_vel_sigma_all = np.empty((0))\n",
    "n_part_all = np.empty((0))\n",
    "filein = sample_files[7]\n",
    "for filein in sample_files:\n",
    "    a, b, c, d, e = gather_data(filein)\n",
    "    conc_mass_all = np.append(conc_mass_all,b)\n",
    "    conc_mass_sigma_all = np.append(conc_mass_sigma_all, c)\n",
    "    conc_vel_all = np.append(conc_vel_all, d)\n",
    "    conc_vel_sigma_all = np.append(conc_vel_sigma_all, e)\n",
    "    n_part_all = np.append(n_part_all, a)\n",
    "    #print conc_mass_all"
   ]
  },
  {
   "cell_type": "code",
   "execution_count": 31,
   "metadata": {
    "collapsed": false
   },
   "outputs": [
    {
     "name": "stdout",
     "output_type": "stream",
     "text": [
      "mass [ 3385.39876911     7.99854704] 253.257506868 1.80837346953\n",
      "vel [ 3385.39876911     7.99854704] 2065.05722831 0.485911163266\n"
     ]
    },
    {
     "data": {
      "image/png": "[encoded data removed]",
      "text/plain": [
       "<matplotlib.figure.Figure at 0x7faddd8786d0>"
      ]
     },
     "metadata": {},
     "output_type": "display_data"
    }
   ],
   "source": [
    "    \n",
    "fig = plt.figure(figsize=(6.5,6.0))\n",
    "ax = plt.axes()\n",
    "\n",
    "enlarge_labels(ax,20)\n",
    "log_n_sample = np.linspace(2.0, 4.6, 100)\n",
    "    \n",
    "popt_mass, pcov = curve_fit(func, np.log10(n_part_all), conc_mass_all-1)\n",
    "print \"mass\", popt, np.sqrt(pcov[0][0]), np.sqrt(pcov[1][1])\n",
    "plt.plot(10**log_n_sample, func(log_n_sample, popt_mass[0], popt_mass[1]), color='black')\n",
    "\n",
    "popt_vel, pcov = curve_fit(func, np.log10(n_part_all), conc_vel_all-1)\n",
    "print \"vel\", popt, np.sqrt(pcov[0][0]), np.sqrt(pcov[1][1])\n",
    "plt.plot(10**log_n_sample, func(log_n_sample, popt_vel[0], popt_vel[1]), color='black')\n",
    "\n",
    "plt.scatter(n_part_all, conc_vel_all-1, color='red', marker=\"p\", s=200, alpha=0.5, label=r'$\\mathrm{Velocity\\ Method}$')\n",
    "plt.scatter(n_part_all, conc_mass_all-1, color='blue', marker=\"o\", s=200, alpha=0.5, label=r'$\\mathrm{Our\\ Method}$')\n",
    "plt.xlim([1E2,4E4])\n",
    "plt.ylim([-0.1, 0.3])\n",
    "\n",
    "plt.xscale('log')\n",
    "ax.set_ylabel(r'$\\langle f_{\\mathrm{off}}\\rangle$',fontsize=25)\n",
    "ax.set_xlabel('$\\mathrm{N_{s}\\ (Sample\\ Particle\\ Number)}$',fontsize=25)\n",
    "\n",
    "ax.legend(loc=1, borderaxespad=0.5, prop={'size':20}, scatterpoints=1)\n",
    "plt.savefig('../paper/avg_foff_bolshoi.pdf', bbox_inches='tight')\n",
    "#plt.savefig(\"conc_dens_vel.pdf\")"
   ]
  },
  {
   "cell_type": "code",
   "execution_count": 14,
   "metadata": {
    "collapsed": false
   },
   "outputs": [
    {
     "data": {
      "image/png": "[encoded data removed]",
      "text/plain": [
       "<matplotlib.figure.Figure at 0x7faddd112d90>"
      ]
     },
     "metadata": {},
     "output_type": "display_data"
    }
   ],
   "source": [
    "fig = plt.figure(figsize=(6.5,6.0))\n",
    "ax = plt.axes()\n",
    "\n",
    "enlarge_labels(ax,20)\n",
    "\n",
    "plt.scatter(n_part_all, conc_vel_sigma_all, color='red',  marker=\"p\", s=200, alpha=0.5, label=r'$\\mathrm{Velocity\\ Method}$')\n",
    "plt.scatter(n_part_all, conc_mass_sigma_all, color='blue', marker=\"o\", s=200, alpha=0.5, label=r'$\\mathrm{Our\\ Method}$')\n",
    "\n",
    "plt.xlim([1E2,4E4])\n",
    "plt.ylim([0.0, 0.25])\n",
    "\n",
    "plt.xscale('log')\n",
    "ax.set_ylabel(r'$\\mathrm{Std.\\ Dev.}\\ f_{\\mathrm{off}}$',fontsize=25)\n",
    "ax.set_xlabel('$\\mathrm{N_{s}\\ (Sample\\ Particle\\ Number)}$',fontsize=25)\n",
    "ax.legend(loc=1, borderaxespad=0.5, prop={'size':20}, scatterpoints=1)\n",
    "plt.savefig('../paper/stddev_foff_bolshoi.pdf', bbox_inches='tight')\n",
    "\n",
    "\n"
   ]
  },
  {
   "cell_type": "code",
   "execution_count": 18,
   "metadata": {
    "collapsed": false
   },
   "outputs": [],
   "source": [
    "#filein = sample_files[7]\n",
    "#for filein in sample_files:\n",
    "#    plot_downsampling(filein)"
   ]
  },
  {
   "cell_type": "code",
   "execution_count": null,
   "metadata": {
    "collapsed": true
   },
   "outputs": [],
   "source": []
  },
  {
   "cell_type": "code",
   "execution_count": 15,
   "metadata": {
    "collapsed": true
   },
   "outputs": [],
   "source": [
    "data_dens_bolshoi = np.loadtxt(\"../data/results/Bolshoi/density/results.csv\", delimiter=',')\n",
    "data_vel_bolshoi = np.loadtxt(\"../data/results/Bolshoi/velocity/results.csv\", delimiter=',')\n",
    "data_mass_bolshoi = np.loadtxt(\"../data/results/Bolshoi/mass/results.csv\", delimiter=',')\n",
    "\n",
    "id_dens_bolshoi = np.int_(data_dens_bolshoi[:,0])\n",
    "id_vel_bolshoi = np.int_(data_vel_bolshoi[:,0])\n",
    "id_mass_bolshoi = np.int_(data_mass_bolshoi[:,0])\n",
    "\n",
    "\n",
    "\n",
    "bolshoi_particle_mass = 1.35E8 # Msun/h\n",
    "\n",
    "# velocity data\n",
    "ii = np.in1d(id_vel_bolshoi,id_dens_bolshoi)\n",
    "conc_bolshoi_vel = data_vel_bolshoi[:,1]\n",
    "halo_mass_vel = data_vel_bolshoi[:,2] * bolshoi_particle_mass\n",
    "\n",
    "# mass data\n",
    "ii = np.in1d(id_mass_bolshoi,id_dens_bolshoi)\n",
    "conc_low_bolshoi_mass = data_mass_bolshoi[:,1]\n",
    "conc_bolshoi_mass = data_mass_bolshoi[:,2]\n",
    "conc_up_bolshoi_mass = data_mass_bolshoi[:,3]\n",
    "bolshoi_npart = data_mass_bolshoi[:,4]\n",
    "halo_mass_mass = data_mass_bolshoi[:,4] * bolshoi_particle_mass\n",
    "\n",
    "\n",
    "#density data\n",
    "\n",
    "conc_bolshoi_density = data_dens_bolshoi[:,3] / data_dens_bolshoi[:,1]\n",
    "halo_mass_density = data_dens_bolshoi[:, 4] * bolshoi_particle_mass"
   ]
  },
  {
   "cell_type": "code",
   "execution_count": 16,
   "metadata": {
    "collapsed": false
   },
   "outputs": [
    {
     "name": "stdout",
     "output_type": "stream",
     "text": [
      "18989\n",
      "15817\n",
      "8037\n",
      "3820\n",
      "1832\n",
      "834\n",
      "340\n",
      "142\n",
      "44\n",
      "5\n",
      "31930\n",
      "17416\n",
      "8161\n",
      "3827\n",
      "1833\n",
      "833\n",
      "340\n",
      "142\n",
      "44\n",
      "5\n",
      "31930\n",
      "17416\n",
      "8161\n",
      "3827\n",
      "1833\n",
      "833\n",
      "340\n",
      "142\n",
      "44\n",
      "5\n"
     ]
    }
   ],
   "source": [
    "n_bins = 12\n",
    "log_mass_interval = np.linspace(10.4,14.5,n_bins)\n",
    "\n",
    "mid_log_mass_interval = 0.5*(log_mass_interval[1:] + log_mass_interval[:-1])\n",
    "mid_log_mass_interval =  log_mass_interval[:-1]\n",
    "\n",
    "conc_median = np.ones((n_bins-1,3))\n",
    "conc_up = np.ones((n_bins-1,3))\n",
    "conc_down = np.ones((n_bins-1,3))\n",
    "\n",
    "conc_median[:,0], conc_down[:,0], conc_up[:,0] = get_stats(np.log10(halo_mass_density), conc_bolshoi_density, log_mass_interval)\n",
    "conc_median[:,1], conc_down[:,1], conc_up[:,1] = get_stats(np.log10(halo_mass_vel), conc_bolshoi_vel, log_mass_interval)\n",
    "conc_median[:,2], conc_down[:,2], conc_up[:,2] = get_stats(np.log10(halo_mass_mass), conc_bolshoi_mass, log_mass_interval)"
   ]
  },
  {
   "cell_type": "code",
   "execution_count": 44,
   "metadata": {
    "collapsed": false
   },
   "outputs": [
    {
     "name": "stdout",
     "output_type": "stream",
     "text": [
      "z 6.70148589771 -0.0841863798936\n"
     ]
    },
    {
     "data": {
      "image/png": "[encoded data removed]",
      "text/plain": [
       "<matplotlib.figure.Figure at 0x7faddc5f8710>"
      ]
     },
     "metadata": {},
     "output_type": "display_data"
    }
   ],
   "source": [
    "fig = plt.figure(figsize=(6.5,6.0))\n",
    "ax = plt.axes()\n",
    "\n",
    "enlarge_labels(ax,20)\n",
    "\n",
    "estilos = ['-.', '--', '-']\n",
    "colores = ['blue', 'green', 'red']\n",
    "origen = ['$\\mathrm{Density\\ Method}$','$\\mathrm{Velocity\\ Method}$','$\\mathrm{Our\\ Method}$']\n",
    "for i in range(3):\n",
    "    ax.plot(10**mid_log_mass_interval,conc_median[:,i],colores[i],lw=4,linestyle=estilos[i], label=origen[i])\n",
    "\n",
    "ax.fill_between(10**mid_log_mass_interval,conc_down[:,2], conc_up[:,2], color=colores[2], alpha=0.2)\n",
    "\n",
    "#for i in range(3):\n",
    "\n",
    "#ax.plot(10**mid_log_mass_interval_MD,conc_median_MD[:,2],'blue',lw=4,linestyle=estilos[2])\n",
    "#ax.fill_between(10**mid_log_mass_interval_MD,conc_down_MD[:,2], conc_up_MD[:,2], color='blue', alpha=0.2)\n",
    "    \n",
    "#datos de prada\n",
    "log_mass_range = np.linspace(9.0, 15.0, 100)\n",
    "conc_theory = 7.28 * (10**log_mass_range/(1.0E12))**-0.074\n",
    "ax.plot(10**log_mass_range, conc_theory,label='$\\mathrm{Prada\\ et\\ al.\\ 2012}$', linestyle=':')\n",
    "\n",
    "#fit\n",
    "z = np.polyfit((mid_log_mass_interval[3:] - 12.0), np.log10(conc_median[3:,2]), 1)\n",
    "print \"z\", 10**z[1], z[0]\n",
    "\n",
    "#datos del fit\n",
    "# log_mass_range = np.linspace(10.0, 15.0, 100)\n",
    "# conc_theory = 10**z[1]*(10**log_mass_range/(1E12))**z[0]\n",
    "# ax.plot(10**log_mass_range, conc_theory,label='$\\mathrm{nuestro}$')\n",
    "\n",
    "min_part = 1E2\n",
    "max_part = 1E6\n",
    "ax.legend(loc=1, borderaxespad=0.5, prop={'size':15})\n",
    "plt.xlim([min_part*bolshoi_particle_mass,max_part*bolshoi_particle_mass])\n",
    "#ax.plot(mid_log_mass_interval-np.log10(particle_mass),conc_median[:,0], lw=0)\n",
    "ax.set_ylim([3,10.0])\n",
    "#ax.set_yscale('log')\n",
    "\n",
    "ax2 = ax.twiny()\n",
    "enlarge_labels(ax2,20)\n",
    "\n",
    "plt.subplots_adjust(bottom=0.18, top=0.85)\n",
    "ax2.set_xscale('log')\n",
    "ax2.set_xlim([min_part,max_part])\n",
    "ax2.set_ylim([3,10.0])\n",
    "\n",
    "ax2.set_xlabel('$\\mathrm{Number\\ of\\ particles\\ (Bolshoi)}$',fontsize=25)\n",
    "ax.set_xscale('log')\n",
    "ax.set_xlabel('$\\mathrm{Halo\\ Mass}\\ [M_{\\odot} h^{-1}]$',fontsize=25)\n",
    "ax.set_ylabel('$\\mathrm{Concentration}$',fontsize=25)\n",
    "ax.text(5E10, 4, r'$\\mathrm{Raw\\ Data}$', fontsize=25)\n",
    "plt.savefig('../paper/concentration_bolshoi.pdf', bbox_inches='tight')\n"
   ]
  },
  {
   "cell_type": "code",
   "execution_count": 46,
   "metadata": {
    "collapsed": false
   },
   "outputs": [
    {
     "name": "stdout",
     "output_type": "stream",
     "text": [
      "[ 0.25961514  0.10947894  0.05022247  0.02469053  0.01286231  0.00703829\n",
      "  0.0040177   0.00237927  0.00145513  0.00091565  0.00059098]\n",
      "[-0.02403711 -0.01114566 -0.00557028 -0.00296079 -0.00165702 -0.00096886\n",
      " -0.00058822 -0.00036899 -0.0002382  -0.00015772 -0.00010682]\n",
      "z 6.28987260728 -0.0597363958879\n"
     ]
    },
    {
     "data": {
      "image/png": "[encoded data removed]",
      "text/plain": [
       "<matplotlib.figure.Figure at 0x7faddd0613d0>"
      ]
     },
     "metadata": {},
     "output_type": "display_data"
    }
   ],
   "source": [
    "fig = plt.figure(figsize=(6.5,6.0))\n",
    "ax = plt.axes()\n",
    "\n",
    "enlarge_labels(ax,20)\n",
    "\n",
    "estilos = ['-.', '--', '-']\n",
    "colores = ['blue', 'green', 'red']\n",
    "origen = ['$\\mathrm{Density\\ Method}$','$\\mathrm{Velocity\\ Method}$','$\\mathrm{Our\\ Method}$']\n",
    "\n",
    "mid_log_n_particle = mid_log_mass_interval - np.log10(bolshoi_particle_mass)\n",
    "#density\n",
    "i=0\n",
    "ax.plot(10**mid_log_mass_interval,conc_median[:,i],colores[i],lw=4,linestyle=estilos[i], label=origen[i])\n",
    "\n",
    "#velocity\n",
    "i=1\n",
    "f_off = func(mid_log_n_particle, popt_vel[0], popt_vel[1])\n",
    "ax.plot(10**mid_log_mass_interval,conc_median[:,i]/(1.0+f_off),colores[i],lw=4,linestyle=estilos[i], label=origen[i])\n",
    "print f_off\n",
    "\n",
    "#mass\n",
    "i=2\n",
    "f_off = func(mid_log_n_particle, popt_mass[0], popt_mass[1])\n",
    "ax.plot(10**mid_log_mass_interval,conc_median[:,i]/(1.0+f_off),colores[i],lw=4,linestyle=estilos[i], label=origen[i])\n",
    "ax.fill_between(10**mid_log_mass_interval,conc_down[:,2]/(1.0+f_off), conc_up[:,2]/(1.0+f_off), color=colores[2], alpha=0.2)\n",
    "\n",
    "print f_off\n",
    "\n",
    "    \n",
    "#datos de prada\n",
    "log_mass_range = np.linspace(9.0, 15.0, 100)\n",
    "conc_theory = 7.28 * (10**log_mass_range/(1.0E12))**-0.074\n",
    "ax.plot(10**log_mass_range, conc_theory,label='$\\mathrm{Prada\\ et\\ al.\\ 2012}$', linestyle=':')\n",
    "\n",
    "#fit\n",
    "z = np.polyfit((mid_log_mass_interval[:] - 12.0), np.log10(conc_median[:,2]/(1+f_off)), 1)\n",
    "print \"z\", 10**z[1], z[0]\n",
    "\n",
    "#datos del fit\n",
    "# log_mass_range = np.linspace(10.0, 15.0, 100)\n",
    "# conc_theory = 10**z[1]*(10**log_mass_range/(1E12))**z[0]\n",
    "# ax.plot(10**log_mass_range, conc_theory,label='$\\mathrm{nuestro}$')\n",
    "\n",
    "min_part = 1E2\n",
    "max_part = 1E6\n",
    "ax.legend(loc=1, borderaxespad=0.5, prop={'size':15})\n",
    "plt.xlim([min_part*bolshoi_particle_mass,max_part*bolshoi_particle_mass])\n",
    "#ax.plot(mid_log_mass_interval-np.log10(particle_mass),conc_median[:,0], lw=0)\n",
    "ax.set_ylim([3,10.0])\n",
    "#ax.set_yscale('log')\n",
    "\n",
    "ax2 = ax.twiny()\n",
    "enlarge_labels(ax2,20)\n",
    "\n",
    "plt.subplots_adjust(bottom=0.18, top=0.85)\n",
    "ax2.set_xscale('log')\n",
    "ax2.set_xlim([min_part,max_part])\n",
    "ax2.set_ylim([3,10.0])\n",
    "\n",
    "ax2.set_xlabel('$\\mathrm{Number\\ of\\ particles\\ (Bolshoi)}$',fontsize=25)\n",
    "ax.set_xscale('log')\n",
    "ax.set_xlabel('$\\mathrm{Halo\\ Mass}\\ [M_{\\odot} h^{-1}]$',fontsize=25)\n",
    "ax.set_ylabel('$\\mathrm{Concentration}$',fontsize=25)\n",
    "\n",
    "ax.text(5E10, 4, r'$\\mathrm{Corrected\\ Data}$', fontsize=25)\n",
    "plt.savefig('../paper/concentration_bolshoi_corrected.pdf', bbox_inches='tight')"
   ]
  },
  {
   "cell_type": "code",
   "execution_count": null,
   "metadata": {
    "collapsed": true
   },
   "outputs": [],
   "source": []
  },
  {
   "cell_type": "code",
   "execution_count": null,
   "metadata": {
    "collapsed": false
   },
   "outputs": [],
   "source": [
    "density_filename = \"../data/results/jc/MultiDark/Rvir_Mvir_fitparams_Multidark.dat\"\n",
    "velocity_filename = \"../data/results/MDmini/velocity/results.csv\"\n",
    "mass_filename = \"../data/results/MDmini/mass/results.csv\"\n",
    "centers = \"../data/results/MDmini/centers.csv\""
   ]
  },
  {
   "cell_type": "code",
   "execution_count": null,
   "metadata": {
    "collapsed": false
   },
   "outputs": [],
   "source": [
    "data_density = np.loadtxt(density_filename)\n",
    "data_velocity = np.loadtxt(velocity_filename, delimiter=\",\")\n",
    "data_mass = np.loadtxt(mass_filename, delimiter=\",\")\n",
    "data_centers = np.loadtxt(centers, delimiter=\",\")"
   ]
  },
  {
   "cell_type": "code",
   "execution_count": null,
   "metadata": {
    "collapsed": false
   },
   "outputs": [],
   "source": [
    "# mass here is the virial mass\n",
    "mass_density = data_density[:,1]*1.0E10\n",
    "conc_density = data_density[:,0]/data_density[:,2]\n",
    "log_mass_density = np.log10(mass_density)\n",
    "\n",
    "particle_mass = 8.721E9\n",
    "\n",
    "mass_velocity = data_velocity[:,7]*particle_mass\n",
    "conc_velocity = data_velocity[:,4]\n",
    "log_mass_velocity = np.log10(mass_velocity)\n",
    "\n",
    "mass_mass  = data_mass[:,8]*particle_mass\n",
    "conc_mass = data_mass[:,4]\n",
    "log_mass_mass = np.log10(mass_mass)\n",
    "\n",
    "\n",
    "#center offset\n",
    "log_mass_centers = np.log10(data_centers[:,11]*particle_mass)\n",
    "delta_center = np.sqrt((data_centers[:,1] - data_centers[:,4])**2\n",
    "                    + (data_centers[:,2] - data_centers[:,5])**2\n",
    "                    + (data_centers[:,3] - data_centers[:,6])**2)\n",
    "#delta_center = delta_center/data_velocity[:,6]"
   ]
  },
  {
   "cell_type": "code",
   "execution_count": null,
   "metadata": {
    "collapsed": false
   },
   "outputs": [],
   "source": [
    "fig = plt.figure()\n",
    "plt.scatter(np.log10(mass_density), conc_density)\n",
    "plt.xlim([12.2,15.0])\n",
    "plt.ylim([0.0,50.0])"
   ]
  },
  {
   "cell_type": "code",
   "execution_count": null,
   "metadata": {
    "collapsed": false
   },
   "outputs": [],
   "source": [
    "n_bins = 7\n",
    "log_mass_interval_MD = np.linspace(12.25,14.5,n_bins)\n",
    "mid_log_mass_interval_MD = 0.5*(log_mass_interval_MD[1:] + log_mass_interval_MD[:-1])\n",
    "mid_log_mass_interval_MD =  log_mass_interval_MD[:-1]\n",
    "\n",
    "conc_median_MD = np.ones((n_bins-1,3))\n",
    "conc_up_MD = np.ones((n_bins-1,3))\n",
    "conc_down_MD = np.ones((n_bins-1,3))\n",
    "\n",
    "conc_median_MD[:,0], conc_down_MD[:,0], conc_up_MD[:,0] = get_stats(log_mass_density,conc_density, log_mass_interval_MD)\n",
    "conc_median_MD[:,1], conc_down_MD[:,1], conc_up_MD[:,1] = get_stats(log_mass_velocity,conc_velocity, log_mass_interval_MD)\n",
    "conc_median_MD[:,2], conc_down_MD[:,2], conc_up_MD[:,2] = get_stats(log_mass_mass,conc_mass, log_mass_interval_MD)\n"
   ]
  },
  {
   "cell_type": "code",
   "execution_count": null,
   "metadata": {
    "collapsed": false
   },
   "outputs": [],
   "source": [
    "fig = plt.figure(figsize=(8.0,6.0))\n",
    "ax = plt.axes()\n",
    "\n",
    "enlarge_labels(ax,20)\n",
    "\n",
    "estilos = ['-.', '--', '-']\n",
    "colores = ['blue', 'green', 'red']\n",
    "origen = ['$\\mathrm{Density\\ Method}$','$\\mathrm{Velocity\\ Method}$','$\\mathrm{Our\\ Method}$']\n",
    "for i in range(3):\n",
    "    ax.plot(10**mid_log_mass_interval_MD,conc_median_MD[:,i],colores[i],lw=4,linestyle=estilos[i], label=origen[i])\n",
    "\n",
    "ax.fill_between(10**mid_log_mass_interval_MD,conc_down_MD[:,2], conc_up_MD[:,2], color=colores[2], alpha=0.2)\n",
    "\n",
    "#datos de prada\n",
    "log_mass_range = np.linspace(11.0, 15.0, 100)\n",
    "conc_theory = 7.28 * (10**log_mass_range/(1.0E12))**-0.074\n",
    "ax.plot(10**log_mass_range, conc_theory,label='$\\mathrm{Prada\\ et\\ al.\\ 2012}$', linestyle=':')\n",
    "\n",
    "#fit\n",
    "z = np.polyfit((mid_log_mass_interval_MD - 12.0), np.log10(conc_median_MD[:,2]), 1)\n",
    "print \"z\", 10**z[1], z[0]\n",
    "\n",
    "#datos del fit\n",
    "#log_mass_range = np.linspace(11.0, 15.0, 100)\n",
    "#conc_theory = 10**z[1]*(10**log_mass_range/(1E12))**z[0]\n",
    "#ax.plot(10**log_mass_range, conc_theory,label='$\\mathrm{Prada et al. 2012}$')\n",
    "\n",
    "\n",
    "ax.legend(loc=1, borderaxespad=0.5, prop={'size':15})\n",
    "plt.xlim([1E2*particle_mass,2E4*particle_mass])\n",
    "#ax.plot(mid_log_mass_interval-np.log10(particle_mass),conc_median[:,0], lw=0)\n",
    "ax.set_ylim([2.5,8.5])\n",
    "\n",
    "ax2 = ax.twiny()\n",
    "enlarge_labels(ax2,20)\n",
    "\n",
    "plt.subplots_adjust(bottom=0.18, top=0.85)\n",
    "ax2.set_xscale('log')\n",
    "ax2.set_xlim([1E2,2E4])\n",
    "ax2.set_ylim([2.5,8.5])\n",
    "\n",
    "ax2.set_xlabel('$\\mathrm{Number\\ of\\ particles}$',fontsize=25)\n",
    "ax.set_xscale('log')\n",
    "ax.set_xlabel('$\\mathrm{Halo\\ Mass}\\ [M_{\\odot} h^{-1}]$',fontsize=25)\n",
    "ax.set_ylabel('$\\mathrm{Concentration}$',fontsize=25)\n",
    "plt.savefig(\"concentration.pdf\")"
   ]
  },
  {
   "cell_type": "code",
   "execution_count": null,
   "metadata": {
    "collapsed": false
   },
   "outputs": [],
   "source": [
    "index_greater = np.where(log_mass_density>12.5)\n",
    "index_greater = index_greater[0]\n",
    "print np.size(index_greater)\n",
    "sort_index = np.argsort(log_mass_density[index_greater])\n",
    "conc_density_sorted = conc_density[index_greater[sort_index]]\n",
    "\n",
    "index_greater = np.where(log_mass_velocity>12.5)\n",
    "index_greater = index_greater[0]\n",
    "print np.size(index_greater)\n",
    "sort_index = np.argsort(log_mass_velocity[index_greater])\n",
    "conc_velocity_sorted = conc_velocity[index_greater[sort_index]]\n",
    "\n",
    "index_greater = np.where(log_mass_mass>12.5)\n",
    "index_greater = index_greater[0]\n",
    "print np.size(index_greater)\n",
    "sort_index = np.argsort(log_mass_mass[index_greater])\n",
    "conc_mass_sorted = conc_mass[index_greater[sort_index]]\n",
    "\n",
    "index_greater = np.where(log_mass_centers>12.5)\n",
    "index_greater = index_greater[0]\n",
    "print np.size(index_greater)\n",
    "sort_index = np.argsort(log_mass_centers[index_greater])\n",
    "data_centers_sorted = data_centers[sort_index, :]\n",
    "\n",
    "log_mass_sorted = log_mass_centers[sort_index]\n",
    "\n",
    "delta_center = np.sqrt((data_centers_sorted[:,2] - data_centers_sorted[:,5])**2\n",
    "                    + (data_centers_sorted[:,3] - data_centers_sorted[:,6])**2\n",
    "                    + (data_centers_sorted[:,4] - data_centers_sorted[:,7])**2)\n",
    "delta_center = delta_center/data_centers_sorted[:,12]\n",
    "\n",
    "delta0 = data_centers_sorted[:,8] + data_centers_sorted[:,9] + data_centers_sorted[:,10]\n",
    "lambda1 = np.amax(data_centers_sorted[:,8:11], axis=1)\n",
    "lambda3 = np.amin(data_centers_sorted[:,8:11], axis=1)\n",
    "lambda2 = delta0 - lambda1 - lambda3\n",
    "ellipticity = (lambda1-lambda3)/(2.0 * delta0)\n",
    "prolateness = (lambda1+lambda3 - 2.0*lambda2)/(2.0*delta0)\n",
    "q_shape = np.sqrt((3.0*ellipticity**2 + prolateness**2))"
   ]
  },
  {
   "cell_type": "code",
   "execution_count": null,
   "metadata": {
    "collapsed": false
   },
   "outputs": [],
   "source": [
    "def plot_dependence(parameter, ratio, bins=7):\n",
    "    bin_parameter = np.linspace(np.min(parameter),np.max(parameter),bins)\n",
    "    center_parameter = 0.5*(bin_parameter[0:-1] + bin_parameter[1:])\n",
    "    ratio_center, ratio_down, ratio_up = get_stats(parameter, ratio, bin_parameter)\n",
    "    plt.plot(center_parameter, ratio_center, linewidth=10)\n",
    "    plt.fill_between(center_parameter,ratio_down, ratio_up, alpha=0.2)"
   ]
  },
  {
   "cell_type": "code",
   "execution_count": null,
   "metadata": {
    "collapsed": false
   },
   "outputs": [],
   "source": [
    "plot_dependence(log_mass_sorted, ellipticity, bins=7)"
   ]
  },
  {
   "cell_type": "code",
   "execution_count": null,
   "metadata": {
    "collapsed": false
   },
   "outputs": [],
   "source": [
    "plot_dependence(log_mass_sorted, prolateness, bins=7)"
   ]
  },
  {
   "cell_type": "code",
   "execution_count": null,
   "metadata": {
    "collapsed": false
   },
   "outputs": [],
   "source": [
    "plot_dependence(log_mass_sorted, conc_density_sorted/conc_velocity_sorted, bins=7)"
   ]
  },
  {
   "cell_type": "code",
   "execution_count": null,
   "metadata": {
    "collapsed": false
   },
   "outputs": [],
   "source": [
    "plot_dependence(log_mass_sorted, conc_density_sorted/conc_mass_sorted, bins=7)"
   ]
  },
  {
   "cell_type": "code",
   "execution_count": null,
   "metadata": {
    "collapsed": false
   },
   "outputs": [],
   "source": [
    "plot_dependence(np.log10(conc_velocity_sorted), conc_velocity_sorted/conc_mass_sorted, bins=7)\n",
    "10**0.6"
   ]
  },
  {
   "cell_type": "code",
   "execution_count": null,
   "metadata": {
    "collapsed": false
   },
   "outputs": [],
   "source": [
    "ratio = conc_density_sorted/conc_mass_sorted\n",
    "plot_dependence(np.log10(conc_density_sorted), ratio, bins=7)\n",
    "plot_dependence(np.log10(conc_density_sorted[delta_center>0.10]), ratio[delta_center>0.10], bins=7)"
   ]
  },
  {
   "cell_type": "code",
   "execution_count": null,
   "metadata": {
    "collapsed": false
   },
   "outputs": [],
   "source": [
    "ratio = conc_density_sorted/conc_mass_sorted\n",
    "plot_dependence(np.log10(conc_mass_sorted), ratio, bins=7)"
   ]
  },
  {
   "cell_type": "code",
   "execution_count": null,
   "metadata": {
    "collapsed": false
   },
   "outputs": [],
   "source": [
    "ratio = conc_density_sorted/conc_mass_sorted\n",
    "plot_dependence(log_mass_sorted, ratio, bins=7)\n",
    "plot_dependence(log_mass_sorted[delta_center<0.10], ratio[delta_center<0.10], bins=7)\n",
    "plot_dependence(log_mass_sorted[delta_center>0.40], ratio[delta_center>0.40], bins=7)"
   ]
  },
  {
   "cell_type": "code",
   "execution_count": null,
   "metadata": {
    "collapsed": false
   },
   "outputs": [],
   "source": [
    "ratio = conc_density_sorted/conc_mass_sorted\n",
    "plot_dependence(log_mass_sorted, ratio, bins=7)\n",
    "plot_dependence(log_mass_sorted[ellipticity<0.10], ratio[ellipticity<0.10], bins=7)\n",
    "plot_dependence(log_mass_sorted[ellipticity>0.15], ratio[ellipticity>0.15], bins=7)"
   ]
  },
  {
   "cell_type": "code",
   "execution_count": null,
   "metadata": {
    "collapsed": false
   },
   "outputs": [],
   "source": [
    "plot_dependence(np.log10(conc_mass_sorted), conc_mass_sorted/conc_velocity_sorted, bins=7)"
   ]
  },
  {
   "cell_type": "code",
   "execution_count": null,
   "metadata": {
    "collapsed": false
   },
   "outputs": [],
   "source": [
    "plot_dependence(delta_center, conc_mass_sorted/conc_density_sorted, bins=7)"
   ]
  },
  {
   "cell_type": "code",
   "execution_count": null,
   "metadata": {
    "collapsed": false
   },
   "outputs": [],
   "source": [
    "plot_dependence(ellipticity, conc_mass_sorted/conc_density_sorted, bins=7)"
   ]
  },
  {
   "cell_type": "code",
   "execution_count": null,
   "metadata": {
    "collapsed": false
   },
   "outputs": [],
   "source": [
    "plot_dependence(prolateness, conc_mass_sorted/conc_density_sorted, bins=7)"
   ]
  },
  {
   "cell_type": "code",
   "execution_count": null,
   "metadata": {
    "collapsed": false
   },
   "outputs": [],
   "source": [
    "plot_dependence(np.log10(q_shape), conc_mass_sorted/conc_density_sorted, bins=7)"
   ]
  },
  {
   "cell_type": "code",
   "execution_count": null,
   "metadata": {
    "collapsed": false
   },
   "outputs": [],
   "source": [
    "fig = plt.figure(figsize=(6.5,6.0))\n",
    "ax = plt.axes()\n",
    "\n",
    "enlarge_labels(ax,20)\n",
    "\n",
    "x = np.linspace(0.0,100, 100)\n",
    "plt.plot(x,x, color='red', linewidth=4, alpha=0.7)\n",
    "plt.plot(x,x*1.20, color='red', linewidth=2, alpha=0.7, linestyle='--')\n",
    "plt.scatter(conc_mass_sorted, conc_velocity_sorted, s=10, alpha=0.5)\n",
    "\n",
    "plt.xlim([1,20])\n",
    "plt.ylim([1,20])\n",
    "\n",
    "plt.subplots_adjust(bottom=0.18, top=0.99, left=0.18, right=0.99)\n",
    "ax.set_xscale('log')\n",
    "ax.set_yscale('log')\n",
    "ax.set_xlabel('$\\mathrm{Concentration\\ (mass)}$',fontsize=25)\n",
    "ax.set_ylabel('$\\mathrm{Concentration\\ (velocity)}$',fontsize=25)\n",
    "plt.savefig(\"conc_mass_vel.pdf\")"
   ]
  },
  {
   "cell_type": "code",
   "execution_count": null,
   "metadata": {
    "collapsed": false
   },
   "outputs": [],
   "source": [
    "fig = plt.figure(figsize=(6.5,6.0))\n",
    "ax = plt.axes()\n",
    "\n",
    "enlarge_labels(ax,20)\n",
    "\n",
    "x = np.linspace(0.0,100, 100)\n",
    "plt.plot(x,x, color='red', linewidth=4, alpha=0.7)\n",
    "plt.plot(x,x*1.20, color='red', linewidth=2, alpha=0.7, linestyle='--')\n",
    "plt.scatter(conc_mass_sorted, conc_density_sorted, s=10, alpha=0.5)\n",
    "\n",
    "plt.xlim([1,20])\n",
    "plt.ylim([1,20])\n",
    "\n",
    "plt.subplots_adjust(bottom=0.18, top=0.99, left=0.18, right=0.99)\n",
    "ax.set_xscale('log')\n",
    "ax.set_yscale('log')\n",
    "ax.set_xlabel('$\\mathrm{Concentration\\ (mass)}$',fontsize=25)\n",
    "ax.set_ylabel('$\\mathrm{Concentration\\ (density)}$',fontsize=25)\n",
    "plt.savefig(\"conc_mass_dens.pdf\")"
   ]
  },
  {
   "cell_type": "code",
   "execution_count": null,
   "metadata": {
    "collapsed": false
   },
   "outputs": [],
   "source": [
    "fig = plt.figure(figsize=(6.5,6.0))\n",
    "ax = plt.axes()\n",
    "\n",
    "enlarge_labels(ax,20)\n",
    "\n",
    "x = np.linspace(0.0,100, 100)\n",
    "plt.plot(x,x, color='red', linewidth=4, alpha=0.7)\n",
    "plt.plot(x,x*1.20, color='red', linewidth=2, alpha=0.7, linestyle='--')\n",
    "plt.scatter(conc_density_sorted, conc_velocity_sorted, s=10, alpha=0.5)\n",
    "\n",
    "plt.xlim([1,20])\n",
    "plt.ylim([1,20])\n",
    "\n",
    "plt.subplots_adjust(bottom=0.18, top=0.99, left=0.18, right=0.99)\n",
    "ax.set_xscale('log')\n",
    "ax.set_yscale('log')\n",
    "ax.set_xlabel('$\\mathrm{Concentration\\ (density)}$',fontsize=25)\n",
    "ax.set_ylabel('$\\mathrm{Concentration\\ (velocity)}$',fontsize=25)\n",
    "plt.savefig(\"conc_dens_vel.pdf\")"
   ]
  },
  {
   "cell_type": "code",
   "execution_count": null,
   "metadata": {
    "collapsed": true
   },
   "outputs": [],
   "source": [
    "#now comes the comparison of the mock halos"
   ]
  },
  {
   "cell_type": "code",
   "execution_count": null,
   "metadata": {
    "collapsed": true
   },
   "outputs": [],
   "source": [
    "density_filename = \"../data/test/mock_100/newDensity/table.csv\"\n",
    "velocity_filename = \"../data/test/mock_100/velocity/table.csv\"\n",
    "mass_filename = \"../data/test/mock_100/newMass/table.csv\""
   ]
  },
  {
   "cell_type": "code",
   "execution_count": null,
   "metadata": {
    "collapsed": true
   },
   "outputs": [],
   "source": [
    "density_data = np.loadtxt(density_filename, delimiter=',')\n",
    "velocity_data = np.loadtxt(velocity_filename, delimiter=',')\n",
    "mass_data = np.loadtxt(mass_filename, delimiter=',')"
   ]
  },
  {
   "cell_type": "code",
   "execution_count": null,
   "metadata": {
    "collapsed": false
   },
   "outputs": [],
   "source": [
    "\n",
    "fig = plt.figure(figsize=(6.5,6.0))\n",
    "ax = plt.axes()\n",
    "\n",
    "enlarge_labels(ax,20)\n",
    "\n",
    "x = np.linspace(0.0,25, 100)\n",
    "plt.plot(x,x, color='red', linewidth=4, alpha=0.7)\n",
    "plt.scatter(mass_data[:,2], density_data[:,2],s=50, alpha=0.4)\n",
    "\n",
    "\n",
    "plt.xlim([1,20])\n",
    "plt.ylim([1,20])\n",
    "\n",
    "plt.subplots_adjust(bottom=0.18, top=0.99, left=0.18, right=0.99)\n",
    "ax.set_xscale('log')\n",
    "ax.set_yscale('log')\n",
    "ax.set_xlabel('$\\mathrm{Concentration\\ (mass)}$',fontsize=25)\n",
    "ax.set_ylabel('$\\mathrm{Concentration\\ (density)}$',fontsize=25)\n",
    "plt.savefig(\"conc_mass_dens_intrinsic.pdf\")"
   ]
  },
  {
   "cell_type": "code",
   "execution_count": null,
   "metadata": {
    "collapsed": false
   },
   "outputs": [],
   "source": [
    "\n",
    "fig = plt.figure(figsize=(6.5,6.0))\n",
    "ax = plt.axes()\n",
    "\n",
    "enlarge_labels(ax,20)\n",
    "\n",
    "x = np.linspace(0.0,25, 100)\n",
    "plt.plot(x,x, color='red', linewidth=4, alpha=0.7)\n",
    "plt.scatter(density_data[:,2], velocity_data[:,2],s=50, alpha=0.4)\n",
    "\n",
    "\n",
    "plt.xlim([1,20])\n",
    "plt.ylim([1,20])\n",
    "\n",
    "plt.subplots_adjust(bottom=0.18, top=0.99, left=0.18, right=0.99)\n",
    "ax.set_xscale('log')\n",
    "ax.set_yscale('log')\n",
    "ax.set_xlabel('$\\mathrm{Concentration\\ (density)}$',fontsize=25)\n",
    "ax.set_ylabel('$\\mathrm{Concentration\\ (velocity)}$',fontsize=25)\n",
    "plt.savefig(\"conc_dens_vel_intrinsic.pdf\")"
   ]
  },
  {
   "cell_type": "code",
   "execution_count": null,
   "metadata": {
    "collapsed": false
   },
   "outputs": [],
   "source": [
    "\n",
    "fig = plt.figure(figsize=(6.5,6.0))\n",
    "ax = plt.axes()\n",
    "\n",
    "enlarge_labels(ax,20)\n",
    "\n",
    "x = np.linspace(0.0,25, 100)\n",
    "plt.plot(x,x, color='red', linewidth=4, alpha=0.7)\n",
    "plt.scatter(mass_data[:,2], velocity_data[:,2],s=50, alpha=0.4)\n",
    "\n",
    "\n",
    "plt.xlim([1,20])\n",
    "plt.ylim([1,20])\n",
    "\n",
    "plt.subplots_adjust(bottom=0.18, top=0.99, left=0.18, right=0.99)\n",
    "ax.set_xscale('log')\n",
    "ax.set_yscale('log')\n",
    "ax.set_xlabel('$\\mathrm{Concentration\\ (mass)}$',fontsize=25)\n",
    "ax.set_ylabel('$\\mathrm{Concentration\\ (velocity)}$',fontsize=25)\n",
    "plt.savefig(\"conc_mass_vel_intrinsic.pdf\")"
   ]
  },
  {
   "cell_type": "code",
   "execution_count": null,
   "metadata": {
    "collapsed": false
   },
   "outputs": [],
   "source": [
    "ratio = mass_data[:,2]/density_data[:,2]\n",
    "plot_dependence(mass_data[:,2], ratio, bins=7)\n",
    "\n",
    "ratio = mass_data[:,3]/density_data[:,3]\n",
    "plot_dependence(mass_data[:,3], ratio, bins=7)\n",
    "\n",
    "ratio = mass_data[:,3]/density_data[:,3]\n",
    "plot_dependence(mass_data[:,3], ratio, bins=7)"
   ]
  },
  {
   "cell_type": "code",
   "execution_count": null,
   "metadata": {
    "collapsed": false
   },
   "outputs": [],
   "source": []
  },
  {
   "cell_type": "code",
   "execution_count": null,
   "metadata": {
    "collapsed": false
   },
   "outputs": [],
   "source": []
  },
  {
   "cell_type": "code",
   "execution_count": null,
   "metadata": {
    "collapsed": false
   },
   "outputs": [],
   "source": [
    "plt.plot(mid_log_mass_interval, conc_median[:,0])\n",
    "plt.plot(mid_log_mass_interval, conc_median[:,1])\n",
    "plt.plot(mid_log_mass_interval, conc_median[:,2])\n",
    "print min(halo_mass_mass)/1E10"
   ]
  },
  {
   "cell_type": "code",
   "execution_count": null,
   "metadata": {
    "collapsed": false
   },
   "outputs": [],
   "source": []
  },
  {
   "cell_type": "code",
   "execution_count": null,
   "metadata": {
    "collapsed": false
   },
   "outputs": [],
   "source": [
    "fig = plt.figure(figsize=(6.5,6.0))\n",
    "ax = plt.axes()\n",
    "\n",
    "enlarge_labels(ax,20)\n",
    "\n",
    "x = np.linspace(0.0,100, 100)\n",
    "plt.plot(x,x, color='red', linewidth=4, alpha=0.7)\n",
    "plt.plot(x,x*1.20, color='red', linewidth=2, alpha=0.7, linestyle='--')\n",
    "#plt.scatter(conc_mass_sorted, conc_velocity_sorted,\n",
    "\n",
    "ii = np.in1d(id_vel_bolshoi,id_dens_bolshoi)\n",
    "plt.scatter(conc_bolshoi_vel[ii], conc_bolshoi_density,  s=1, alpha=0.5)\n",
    "\n",
    "#ax.errorbar(conc_bolshoi_mass[ii], conc_bolshoi_vel[ii], \n",
    "#            xerr=[conc_bolshoi_mass[ii]-conc_low_bolshoi_mass[ii], conc_up_bolshoi_mass[ii] - conc_bolshoi_mass[ii]],\n",
    "#            fmt='o', ecolor='g', capthick=2)\n",
    "plt.xlim([1,100])\n",
    "plt.ylim([1,100])\n",
    "\n",
    "plt.subplots_adjust(bottom=0.18, top=0.99, left=0.18, right=0.99)\n",
    "ax.set_xscale('log')\n",
    "ax.set_yscale('log')\n",
    "ax.set_xlabel('$\\mathrm{Concentration\\ (velocity)}$',fontsize=25)\n",
    "ax.set_ylabel('$\\mathrm{Concentration\\ (density)}$',fontsize=25)\n",
    "plt.savefig(\"conc_vel_dens_bolshoi.pdf\")"
   ]
  },
  {
   "cell_type": "code",
   "execution_count": null,
   "metadata": {
    "collapsed": true
   },
   "outputs": [],
   "source": [
    "fig = plt.figure(figsize=(6.5,6.0))\n",
    "ax = plt.axes()\n",
    "\n",
    "enlarge_labels(ax,20)\n",
    "\n",
    "x = np.linspace(0.0,100, 100)\n",
    "plt.plot(x,x, color='red', linewidth=4, alpha=0.7)\n",
    "plt.plot(x,x*1.20, color='red', linewidth=2, alpha=0.7, linestyle='--')\n",
    "#plt.scatter(conc_mass_sorted, conc_velocity_sorted,\n",
    "ii = bolshoi_npart < 3E3\n",
    "\n",
    "plt.scatter(conc_bolshoi_mass[ii], conc_bolshoi_vel[ii],  s=1, alpha=0.5)\n",
    "\n",
    "#ax.errorbar(conc_bolshoi_mass[ii], conc_bolshoi_vel[ii], \n",
    "#            xerr=[conc_bolshoi_mass[ii]-conc_low_bolshoi_mass[ii], conc_up_bolshoi_mass[ii] - conc_bolshoi_mass[ii]],\n",
    "#            fmt='o', ecolor='g', capthick=2)\n",
    "plt.xlim([1,40])\n",
    "plt.ylim([1,40])\n",
    "\n",
    "plt.subplots_adjust(bottom=0.18, top=0.99, left=0.18, right=0.99)\n",
    "ax.set_xscale('log')\n",
    "ax.set_yscale('log')\n",
    "ax.set_xlabel('$\\mathrm{Concentration\\ (mass)}$',fontsize=25)\n",
    "ax.set_ylabel('$\\mathrm{Concentration\\ (velocity)}$',fontsize=25)\n",
    "plt.savefig(\"conc_mass_vel_bolshoi.pdf\")"
   ]
  },
  {
   "cell_type": "code",
   "execution_count": null,
   "metadata": {
    "collapsed": true
   },
   "outputs": [],
   "source": [
    "conc_bolshoi_mass = data_mass_bolshoi[:,2]\n",
    "conc_low_bolshoi_mass = data_mass_bolshoi[:,1]\n",
    "conc_up_bolshoi_mass = data_mass_bolshoi[:,3]"
   ]
  },
  {
   "cell_type": "code",
   "execution_count": null,
   "metadata": {
    "collapsed": false
   },
   "outputs": [],
   "source": [
    "fig = plt.figure(figsize=(6.5,6.0))\n",
    "ax = plt.axes()\n",
    "\n",
    "enlarge_labels(ax,20)\n",
    "\n",
    "x = np.linspace(-1.0,60, 100)\n",
    "slope = -1.0\n",
    "norm = 1E3\n",
    "plt.plot(x**10,norm*(x**10)**slope, color='red', linewidth=4, alpha=0.7, label='$\\propto 1/N$')\n",
    "#plt.plot(x,x*1.20, color='red', linewidth=2, alpha=0.7, linestyle='--')\n",
    "#plt.scatter(conc_mass_sorted, conc_velocity_sorted,\n",
    "\n",
    "frac = 100*(conc_up_bolshoi_mass - conc_low_bolshoi_mass)/conc_bolshoi_mass\n",
    "ii = (bolshoi_npart < 1E6) & (frac > 1E-5)\n",
    "plt.scatter(bolshoi_npart[ii], frac[ii],  s=1.0, alpha=0.5, label='$\\mathrm{Bolshoi\\ Data}$')\n",
    "\n",
    "print frac.min(), frac.max()\n",
    "\n",
    "plt.xlim([1E2,1E6])\n",
    "plt.ylim([1E-3,5])\n",
    "\n",
    "ax.legend(loc=1, borderaxespad=0.5, prop={'size':25})\n",
    "\n",
    "plt.subplots_adjust(bottom=0.18, top=0.99, left=0.18, right=0.99)\n",
    "ax.set_xscale('log')\n",
    "ax.set_yscale('log')\n",
    "ax.set_ylabel('$1\\sigma\\ \\mathrm{concentration\\ uncertainty} (\\%)$',fontsize=25)\n",
    "ax.set_xlabel('$\\mathrm{Number\\ of\\ particles}}$',fontsize=25)\n",
    "plt.savefig(\"error_conc_bolshoi.pdf\")"
   ]
  },
  {
   "cell_type": "code",
   "execution_count": null,
   "metadata": {
    "collapsed": true
   },
   "outputs": [],
   "source": []
  }
 ],
 "metadata": {
  "kernelspec": {
   "display_name": "Python 2",
   "language": "python",
   "name": "python2"
  },
  "language_info": {
   "codemirror_mode": {
    "name": "ipython",
    "version": 2
   },
   "file_extension": ".py",
   "mimetype": "text/x-python",
   "name": "python",
   "nbconvert_exporter": "python",
   "pygments_lexer": "ipython2",
   "version": "2.7.6"
  }
 },
 "nbformat": 4,
 "nbformat_minor": 0
}
