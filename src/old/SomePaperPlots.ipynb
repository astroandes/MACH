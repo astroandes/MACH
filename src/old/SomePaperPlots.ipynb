{
 "cells": [
  {
   "cell_type": "code",
   "execution_count": 3,
   "metadata": {
    "collapsed": false
   },
   "outputs": [
    {
     "name": "stdout",
     "output_type": "stream",
     "text": [
      "Populating the interactive namespace from numpy and matplotlib\n"
     ]
    }
   ],
   "source": [
    "%pylab inline"
   ]
  },
  {
   "cell_type": "code",
   "execution_count": 57,
   "metadata": {
    "collapsed": false
   },
   "outputs": [],
   "source": [
    "def enlarge_labels(ax):\n",
    "    ticklabels_x = ax.get_xticklabels()\n",
    "    ticklabels_y = ax.get_yticklabels()\n",
    "    for label_x in ticklabels_x:\n",
    "        label_x.set_fontsize(20)\n",
    "        label_x.set_family('serif')\n",
    "    for label_y in ticklabels_y:\n",
    "        label_y.set_fontsize(20)\n",
    "        label_y.set_family('serif')\n",
    "        \n",
    "def dividing(x):\n",
    "    x_min,x_max = np.min(x),np.max(x)\n",
    "    divided_x = []\n",
    "    dx = (x_max-x_min)/4.0\n",
    "    for i in range(4):\n",
    "        up = np.argwhere(x > i*dx+x_min)\n",
    "        if i == 0:\n",
    "            up = np.argwhere(x >= x_min)\n",
    "        up = up.reshape(len(up))\n",
    "        down = np.argwhere(x <= (i+1)*dx+x_min)\n",
    "        if i == 3:\n",
    "            down = np.argwhere(x <= x_max)\n",
    "        down = down.reshape(len(down))\n",
    "        indices = np.intersect1d(up,down)\n",
    "        divided_x.append(indices)\n",
    "    return divided_x"
   ]
  },
  {
   "cell_type": "markdown",
   "metadata": {},
   "source": [
    "# Tests on the mock halos"
   ]
  },
  {
   "cell_type": "code",
   "execution_count": 93,
   "metadata": {
    "collapsed": false
   },
   "outputs": [],
   "source": [
    "fig = figure(figsize=(9.5,6.5))\n",
    "ax = axes()\n",
    "enlarge_labels(ax)\n",
    "\n",
    "ax.set_xlabel(\"$D=(c_{out}-c_{in})/c_{in}$\",fontsize=25)\n",
    "ax.set_ylabel(\"$\\mathrm{Fraction} <D$\",fontsize=25)\n",
    "\n",
    "mock_data = loadtxt(\"../data/test/mock_100/newMass/table.csv\", delimiter=\",\")\n",
    "\n",
    "c_in = mock_data[:,0]\n",
    "c_out_20 = mock_data[:,1]\n",
    "c_out_200 = mock_data[:,2]\n",
    "c_out_2000 = mock_data[:,3]\n",
    "c_out_20000 = mock_data[:,4]\n",
    "d_20 = (c_out_20 - c_in)/c_in\n",
    "d_200 = (c_out_200 - c_in)/c_in\n",
    "d_2000 = (c_out_2000 - c_in)/c_in\n",
    "d_20000 = (c_out_20000 - c_in)/c_in\n",
    "\n",
    "\n",
    "n_points = size(d_20)\n",
    "\n",
    "y_int = linspace(0,1.0,n_points)\n",
    "ax.plot(sort(d_20), y_int, color='black',ms=1,linewidth=1.0, label=\"$N=20$\")\n",
    "ax.plot(sort(d_200), y_int, color='black',ms=1,linewidth=2.0, label=\"$N=200$\")\n",
    "ax.plot(sort(d_2000), y_int, color='black',ms=1,linewidth=4.0, label=\"$N=2000$\")\n",
    "ax.plot(sort(d_20000), y_int, color='black',ms=1,linewidth=8.0, label=\"$N=20000$\")\n",
    "\n",
    "ax.legend(loc=0, scatterpoints=1, prop={'size':20})\n",
    "\n",
    "ax.set_xlim([-0.15,0.15])\n",
    "ax.set_ylim([0.0,1.0])\n",
    "filename='mock_percentual_diff'\n",
    "savefig(filename + '.eps',format = 'eps', transparent=True)\n",
    "savefig(filename + '.pdf',format = 'pdf', transparent=True)\n",
    "savefig(filename + '.png',format = 'png', transparent=True)\n",
    "close()\n",
    "indices = dividing(c_in)\n",
    "\n",
    "conc_in = [c_in[i] for i in indices]\n",
    "conc_20 = [c_out_20[i] for i in indices]\n",
    "conc_200 = [c_out_200[i] for i in indices]\n",
    "conc_2000 = [c_out_2000[i] for i in indices]\n",
    "conc_20000 = [c_out_20000[i] for i in indices]\n",
    "\n",
    "d_20 = [(conc_20[i] - conc_in[i])/conc_in[i] for i in range(4)]\n",
    "d_200 =[(conc_200[i] - conc_in[i])/conc_in[i] for i in range(4)]\n",
    "d_2000 = [(conc_2000[i] - conc_in[i])/conc_in[i] for i in range(4)]\n",
    "d_20000 = [(conc_20000[i] - conc_in[i])/conc_in[i] for i in range(4)]\n",
    "\n",
    "all_n_points = [len(x) for x in indices]\n",
    "\n",
    "fig = figure(figsize=(9.5,6.5))\n",
    "ax = axes()\n",
    "enlarge_labels(ax)\n",
    "\n",
    "ax.set_xlabel(\"$D \\\\times 10^{-3}=(c_{out}-c_{in})/c_{in}$\",fontsize=25)\n",
    "ax.set_ylabel(\"$\\mathrm{Fraction} <D$\",fontsize=25)\n",
    "\n",
    "for i in range(4):\n",
    "    n_points = all_n_points[i]\n",
    "    y_int = linspace(0,1.0,n_points)\n",
    "    ax.plot(1000*sort(d_20000[i]), y_int, color='black',ms=1,linewidth=2.0**i, label=\"$\"+\n",
    "            (\"%.1f\" % (min(conc_in[i])))\n",
    "            +\"\\leq c_{in} <\"+\n",
    "            (\"%.1f\" % max(conc_in[i]))+\"$\")\n",
    "ax.legend(loc=0, scatterpoints=1, prop={'size':20})\n",
    "ax.set_ylim([0.0,1.0])\n",
    "\n",
    "filename='mock_percentual_diff_conc_20000'\n",
    "savefig(filename + '.eps',format = 'eps', transparent=True)\n",
    "savefig(filename + '.pdf',format = 'pdf', transparent=True)\n",
    "savefig(filename + '.png',format = 'png', transparent=True)\n",
    "close()\n",
    "\n",
    "fig = figure(figsize=(9.5,6.5))\n",
    "ax = axes()\n",
    "enlarge_labels(ax)\n",
    "\n",
    "ax.set_xlabel(\"$D \\\\times 10^{-3}=(c_{out}-c_{in})/c_{in}$\",fontsize=25)\n",
    "ax.set_ylabel(\"$\\mathrm{Fraction} <D$\",fontsize=25)\n",
    "\n",
    "for i in range(4):\n",
    "    n_points = all_n_points[i]\n",
    "    y_int = linspace(0,1.0,n_points)\n",
    "    ax.plot(1000*sort(d_20[i]), y_int, color='black',ms=1,linewidth=2.0**i, label=\"$\"+\n",
    "            (\"%.1f\" % (min(conc_in[i])))\n",
    "            +\"\\leq c_{in} <\"+\n",
    "            (\"%.1f\" % max(conc_in[i]))+\"$\")\n",
    "ax.legend(loc=0, scatterpoints=1, prop={'size':20})\n",
    "ax.set_ylim([0.0,1.0])\n",
    "\n",
    "filename='mock_percentual_diff_conc_20'\n",
    "savefig(filename + '.eps',format = 'eps', transparent=True)\n",
    "savefig(filename + '.pdf',format = 'pdf', transparent=True)\n",
    "savefig(filename + '.png',format = 'png', transparent=True)\n",
    "close()"
   ]
  },
  {
   "cell_type": "code",
   "execution_count": 7,
   "metadata": {
    "collapsed": false
   },
   "outputs": [
    {
     "name": "stdout",
     "output_type": "stream",
     "text": [
      "-0.0570482874165 -0.000828499520259 -0.000561886415441 0.000295847485321\n"
     ]
    }
   ],
   "source": [
    "print median(d_20), median(d_200), median(d_2000), median(d_20000)"
   ]
  },
  {
   "cell_type": "code",
   "execution_count": null,
   "metadata": {
    "collapsed": false
   },
   "outputs": [],
   "source": []
  }
 ],
 "metadata": {
  "kernelspec": {
   "display_name": "Python 3",
   "language": "python",
   "name": "python3"
  },
  "language_info": {
   "codemirror_mode": {
    "name": "ipython",
    "version": 3
   },
   "file_extension": ".py",
   "mimetype": "text/x-python",
   "name": "python",
   "nbconvert_exporter": "python",
   "pygments_lexer": "ipython3",
   "version": "3.4.3"
  }
 },
 "nbformat": 4,
 "nbformat_minor": 0
}
